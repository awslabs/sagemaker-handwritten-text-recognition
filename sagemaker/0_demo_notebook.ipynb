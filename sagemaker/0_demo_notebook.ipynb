{
 "cells": [
  {
   "cell_type": "code",
   "execution_count": null,
   "metadata": {},
   "outputs": [],
   "source": [
    "!sudo apt install -y libgl1-mesa-glx"
   ]
  },
  {
   "cell_type": "code",
   "execution_count": null,
   "metadata": {},
   "outputs": [],
   "source": [
    "import boto3\n",
    "import botocore\n",
    "import json\n",
    "import numpy as np\n",
    "import matplotlib.pyplot as plt\n",
    "import matplotlib.patches as patches\n",
    "import cv2\n",
    "\n",
    "from src.utils import resize_image"
   ]
  },
  {
   "cell_type": "markdown",
   "metadata": {},
   "source": [
    "# Demo\n",
    "A notebook to show you a demo of the handwriting recognition. Here we input an image into the prebuilt SageMaker endpoint and the bounding boxes and transcribed text are returned.\n",
    "\n",
    "*Please note that this network was trained on the [CSafe](https://iastate.figshare.com/articles/CSAFE_Handwriting_Database/10062203) handwriting dataset ([license information](https://creativecommons.org/licenses/by/4.0/)) and it is intended for demostration purposes only.*"
   ]
  },
  {
   "cell_type": "code",
   "execution_count": null,
   "metadata": {},
   "outputs": [],
   "source": [
    "with open(\"stack_outputs.json\") as f:\n",
    "    sagemaker_configs = json.load(f)\n",
    "\n",
    "config = botocore.config.Config(read_timeout=200)\n",
    "runtime = boto3.client('runtime.sagemaker', config=config)"
   ]
  },
  {
   "cell_type": "code",
   "execution_count": null,
   "metadata": {},
   "outputs": [],
   "source": [
    "img = cv2.imread('data/sample/demo.png', cv2.IMREAD_GRAYSCALE)\n",
    "\n",
    "resized_img, _ = resize_image(img, desired_size=(700, 700))\n",
    "\n",
    "payload = json.dumps(resized_img.astype(float).tolist())\n",
    "response = runtime.invoke_endpoint(EndpointName=sagemaker_configs[\"SageMakerDemoEndpointName\"],\n",
    "                                   ContentType='application/json',\n",
    "                                   Body=payload)\n",
    "out = json.loads(response['Body'].read().decode())\n",
    "\n",
    "bbs = np.array(out[\"line_bbs\"])\n",
    "decoded = out[\"decoded\"]"
   ]
  },
  {
   "cell_type": "code",
   "execution_count": null,
   "metadata": {},
   "outputs": [],
   "source": [
    "fig, ax = plt.subplots(1, figsize=(20, 15))\n",
    "\n",
    "for j in range(bbs.shape[0]):\n",
    "    decoded_string = decoded[j]\n",
    "    (x, y, w, h) = bbs[j]\n",
    "    image_h, image_w = resized_img.shape[-2:]\n",
    "    (x, y, w, h) = (x * image_w, y * image_h, w * image_w, h * image_h)\n",
    "\n",
    "    ax.text(x+w, y+h/2, decoded_string, bbox=dict(facecolor='red', alpha=0.5))\n",
    "    rect = patches.Rectangle((x, y), w, h, fill=False, color=\"r\")\n",
    "\n",
    "    ax.add_patch(rect)\n",
    "    \n",
    "ax.set_title(\"Predicted image\")\n",
    "ax.imshow(resized_img, cmap='Greys_r')\n",
    "ax.axes.xaxis.set_visible(False)\n",
    "ax.axes.yaxis.set_visible(False)"
   ]
  },
  {
   "cell_type": "markdown",
   "metadata": {},
   "source": [
    "# Navigation\n",
    "Click [here](./1_Introduction.ipynb) to view the introduction of how to label and train your own network"
   ]
  },
  {
   "cell_type": "code",
   "execution_count": null,
   "metadata": {},
   "outputs": [],
   "source": []
  }
 ],
 "metadata": {
  "kernelspec": {
   "display_name": "Python 3 (MXNet JumpStart)",
   "language": "python",
   "name": "HUB_1P_IMAGE"
  },
  "language_info": {
   "codemirror_mode": {
    "name": "ipython",
    "version": 3
   },
   "file_extension": ".py",
   "mimetype": "text/x-python",
   "name": "python",
   "nbconvert_exporter": "python",
   "pygments_lexer": "ipython3",
   "version": "3.7.8"
  },
  "pycharm": {
   "stem_cell": {
    "cell_type": "raw",
    "metadata": {
     "collapsed": false
    },
    "source": []
   }
  }
 },
 "nbformat": 4,
 "nbformat_minor": 4
}
