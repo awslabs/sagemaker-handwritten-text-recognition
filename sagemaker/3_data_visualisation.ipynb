{
 "cells": [
  {
   "cell_type": "markdown",
   "metadata": {},
   "source": [
    "# Visualise your labelled data"
   ]
  },
  {
   "cell_type": "code",
   "execution_count": null,
   "metadata": {},
   "outputs": [],
   "source": [
    "import os\n",
    "import io\n",
    "import json\n",
    "import boto3\n",
    "import numpy as np\n",
    "\n",
    "import matplotlib.pyplot as plt\n",
    "import matplotlib.image as mpimg\n",
    "import matplotlib.patches as patches\n",
    "\n",
    "from src.sm_utils import parse_s3_url"
   ]
  },
  {
   "cell_type": "code",
   "execution_count": null,
   "metadata": {},
   "outputs": [],
   "source": [
    "with open(\"stack_outputs.json\") as f:\n",
    "    sagemaker_config = json.load(f)\n",
    "s3_bucket = sagemaker_config[\"S3Bucket\"]"
   ]
  },
  {
   "cell_type": "markdown",
   "metadata": {},
   "source": [
    "## Get the labour of your hard work!\n",
    "This notebook will download your labels from S3 and display several entries so you could check. \n",
    "Note that you must wait until your labelling job has finished."
   ]
  },
  {
   "cell_type": "code",
   "execution_count": null,
   "metadata": {},
   "outputs": [],
   "source": [
    "label_job_id = \"{}-labelling-job\".format(sagemaker_config[\"SolutionPrefix\"])"
   ]
  },
  {
   "cell_type": "code",
   "execution_count": null,
   "metadata": {},
   "outputs": [],
   "source": [
    "s3_client = boto3.client('s3')\n",
    "\n",
    "# output manifest of the labelling job\n",
    "output_manifest_location = \"custom_data/output/{}/manifests/output/output.manifest\".format(\n",
    "    label_job_id)\n",
    "\n",
    "item_object = s3_client.get_object(Bucket=s3_bucket, \n",
    "                                   Key=output_manifest_location)\n",
    "body = item_object['Body'].read().decode('utf-8')"
   ]
  },
  {
   "cell_type": "markdown",
   "metadata": {},
   "source": [
    "### Select the index you want to visualise"
   ]
  },
  {
   "cell_type": "code",
   "execution_count": null,
   "metadata": {},
   "outputs": [],
   "source": [
    "index = 0"
   ]
  },
  {
   "cell_type": "code",
   "execution_count": null,
   "metadata": {},
   "outputs": [],
   "source": [
    "entry = json.loads(body.split(\"\\n\")[index])\n",
    "\n",
    "image_s3_key = parse_s3_url(entry[\"source-ref\"])[1]\n",
    "image_stream = io.BytesIO()\n",
    "\n",
    "s3_client.download_fileobj(Bucket=s3_bucket, Key=image_s3_key, Fileobj=image_stream)\n",
    "\n",
    "image_stream.seek(0)\n",
    "img = mpimg.imread(image_stream, \"png\")"
   ]
  },
  {
   "cell_type": "code",
   "execution_count": null,
   "metadata": {},
   "outputs": [],
   "source": [
    "fig, ax = plt.subplots(1, figsize=(20, 15))\n",
    "\n",
    "for text_entry in entry[\"annotations\"][\"texts\"]:\n",
    "    text = text_entry[\"text\"]\n",
    "    bb = text_entry[\"bb\"]\n",
    "    x, y = [a['x'] for a in bb], [a['y'] for a in bb]\n",
    "    xy = np.array([x, y])\n",
    "    rect = patches.Polygon(xy.T, fill=False, color=\"r\")\n",
    "    ax.add_patch(rect)\n",
    "\n",
    "    # Get the top left coord\n",
    "    left_coords = np.argsort(xy[0, :])[:2]\n",
    "    top_left = np.argmin(xy[1, left_coords])\n",
    "    top_left_coord = xy[:, left_coords][:, top_left]\n",
    "    ax.text(top_left_coord[0], top_left_coord[1], text, bbox=dict(facecolor='red', alpha=0.5))\n",
    "\n",
    "ax.imshow(img, cmap='Greys_r')\n",
    "ax.axes.xaxis.set_visible(False)\n",
    "ax.axes.yaxis.set_visible(False)"
   ]
  },
  {
   "cell_type": "markdown",
   "metadata": {},
   "source": [
    "# Navigation\n",
    "- Click [here](./2_label_own_data.ipynb) to start another labelling job\n",
    "- Click [here](./4_model_training.ipynb) to train a model with your data"
   ]
  },
  {
   "cell_type": "code",
   "execution_count": null,
   "metadata": {},
   "outputs": [],
   "source": []
  }
 ],
 "metadata": {
  "kernelspec": {
   "display_name": "Python 3 (MXNet JumpStart)",
   "language": "python",
   "name": "HUB_1P_IMAGE"
  },
  "language_info": {
   "codemirror_mode": {
    "name": "ipython",
    "version": 3
   },
   "file_extension": ".py",
   "mimetype": "text/x-python",
   "name": "python",
   "nbconvert_exporter": "python",
   "pygments_lexer": "ipython3",
   "version": "3.7.8"
  }
 },
 "nbformat": 4,
 "nbformat_minor": 4
}
