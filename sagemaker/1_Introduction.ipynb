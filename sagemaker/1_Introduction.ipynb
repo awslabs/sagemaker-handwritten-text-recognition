{
 "cells": [
  {
   "cell_type": "markdown",
   "metadata": {},
   "source": [
    "# SageMaker Handwriting recognition\n",
    "\n",
    "The SageMaker handwriting recognition solution applies deep learning techniques to transcribe text in images of passages into strings. \n",
    "\n",
    "If you have your own data, you can use this solution to label your own data and train a new network with it. Endpoints are then automatically deployed with the solution. \n",
    "\n",
    "![](https://sagemaker-solutions-us-east-2.s3.us-east-2.amazonaws.com/sagemaker-handwriting-recognition/docs/htr_demo.png)\n",
    "\n",
    "## Architecture\n",
    "\n",
    "![](https://sagemaker-solutions-us-east-2.s3.us-east-2.amazonaws.com/sagemaker-handwriting-recognition/docs/archi.png)\n",
    "\n",
    "The following services are used:\n",
    "- Amazon S3: To store datasets, training job information, labelling information, and network artifacts\n",
    "- Amazon SageMaker Notebooks: Used to preprocess and visualise the data, and to train the deep learning models\n",
    "- Amazon SageMaker Ground Truth: Used to label your custom data\n",
    "- Amazon SageMaker Endpoint: Used to deploy the trained model\n",
    "\n",
    "## Stages\n",
    "\n",
    "The solution is split into the following stages. Each stage has it's own notebook\n",
    "- [Demo: You can try a demo SageMaker endpoint with an image of a handwritting passage](./0_demo_notebook.ipynb)\n",
    "- [Introduction (here): a high-level overview of the solution](./1_Introduction.ipynb)\n",
    "- [Label own data: notebook to prepare your own dataset for labelling](./2_label_own_data.ipynb)\n",
    "- [Visualise your own data](./3_data_visualisation.ipynb)\n",
    "- [Model training: notebook to train models with your labelled dataset](./4_model_training.ipynb)\n",
    "- [Endpoint updates: Notebooks to build SageMaker endpoints with the trained models](./5_endpoint_updates.ipynb)"
   ]
  },
  {
   "cell_type": "code",
   "execution_count": null,
   "metadata": {},
   "outputs": [],
   "source": []
  }
 ],
 "metadata": {
  "kernelspec": {
   "display_name": "Python 3 (MXNet JumpStart)",
   "language": "python",
   "name": "HUB_1P_IMAGE"
  },
  "language_info": {
   "codemirror_mode": {
    "name": "ipython",
    "version": 3
   },
   "file_extension": ".py",
   "mimetype": "text/x-python",
   "name": "python",
   "nbconvert_exporter": "python",
   "pygments_lexer": "ipython3",
   "version": "3.7.8"
  }
 },
 "nbformat": 4,
 "nbformat_minor": 4
}
