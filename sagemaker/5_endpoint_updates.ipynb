{
 "cells": [
  {
   "cell_type": "code",
   "execution_count": null,
   "metadata": {},
   "outputs": [],
   "source": [
    "import boto3\n",
    "import os\n",
    "import json\n",
    "import numpy as np\n",
    "import cv2\n",
    "from src.utils import resize_image\n",
    "\n",
    "from src.sm_utils import get_latest_training_job, get_model_data, parse_model_data"
   ]
  },
  {
   "cell_type": "markdown",
   "metadata": {},
   "source": [
    "# Build an endpoint with the new models\n",
    "In this notebook, we build new SageMaker endpoints with the models that you trained."
   ]
  },
  {
   "cell_type": "code",
   "execution_count": null,
   "metadata": {},
   "outputs": [],
   "source": [
    "with open(\"stack_outputs.json\") as f:\n",
    "    sagemaker_config = json.load(f)\n",
    "s3_bucket = sagemaker_config[\"S3Bucket\"]"
   ]
  },
  {
   "cell_type": "markdown",
   "metadata": {},
   "source": [
    "## Get the models from S3"
   ]
  },
  {
   "cell_type": "code",
   "execution_count": null,
   "metadata": {
    "scrolled": true
   },
   "outputs": [],
   "source": [
    "os.mkdir(\"model\")\n",
    "\n",
    "word_seg_training_job = get_latest_training_job(sagemaker_config[\"SolutionPrefix\"]+\"-word-seg\")\n",
    "word_seg_s3 = get_model_data(word_seg_training_job)\n",
    "parse_model_data(word_seg_s3, \"model\")\n",
    "\n",
    "htr_training_job = get_latest_training_job(sagemaker_config[\"SolutionPrefix\"]+\"-line-reg\")\n",
    "htr_s3 = get_model_data(htr_training_job)\n",
    "parse_model_data(htr_s3, \"model\")\n",
    "\n",
    "!tar -czvf model.tar.gz model/\n",
    "!aws s3 cp model.tar.gz s3://$s3_bucket/custom_data/artifacts/model.tar.gz"
   ]
  },
  {
   "cell_type": "code",
   "execution_count": null,
   "metadata": {},
   "outputs": [],
   "source": [
    "# Clean up the temporary folders and files\n",
    "!rm -r model\n",
    "!rm output.tar.gz\n",
    "!rm model.tar.gz"
   ]
  },
  {
   "cell_type": "markdown",
   "metadata": {},
   "source": [
    "## Build new endpoints with the models"
   ]
  },
  {
   "cell_type": "code",
   "execution_count": null,
   "metadata": {
    "scrolled": true
   },
   "outputs": [],
   "source": [
    "import sagemaker\n",
    "\n",
    "from sagemaker.mxnet.model import MXNetModel\n",
    "\n",
    "role = sagemaker_config[\"SageMakerIamRole\"]\n",
    "\n",
    "mxnet_model = MXNetModel(model_data='s3://{}/custom_data/artifacts/model.tar.gz'.format(s3_bucket),\n",
    "                         role=role,\n",
    "                         entry_point='inference.py',\n",
    "                         source_dir=\"src\",\n",
    "                         framework_version='1.6.0',\n",
    "                         name=sagemaker_config[\"SageMakerModelName\"],\n",
    "                         code_location=\"s3://{}/endpoint\".format(s3_bucket),\n",
    "                         py_version='py3')\n",
    "\n",
    "predictor = mxnet_model.deploy(instance_type=sagemaker_config[\"SageMakerInferenceInstanceType\"],\n",
    "                               endpoint_name=sagemaker_config[\"SageMakerEndpointName\"],\n",
    "                               initial_instance_count=1)"
   ]
  },
  {
   "cell_type": "code",
   "execution_count": null,
   "metadata": {
    "scrolled": true
   },
   "outputs": [],
   "source": [
    "img = cv2.imread('data/sample/demo.png', cv2.IMREAD_GRAYSCALE)\n",
    "\n",
    "resized_img, _ = resize_image(img, desired_size=(700, 700))\n",
    "out = predictor.predict(resized_img.astype('float32').tolist())\n",
    "\n",
    "line_bbs = np.array(out[\"line_bbs\"])\n",
    "decoded = out[\"decoded\"]"
   ]
  },
  {
   "cell_type": "code",
   "execution_count": null,
   "metadata": {},
   "outputs": [],
   "source": [
    "import matplotlib.pyplot as plt\n",
    "import matplotlib.patches as patches\n",
    "\n",
    "fig, ax = plt.subplots(1, figsize=(20, 15))\n",
    "\n",
    "for j in range(line_bbs.shape[0]):\n",
    "    decoded_string = decoded[j]\n",
    "    (x, y, w, h) = line_bbs[j]\n",
    "    image_h, image_w = resized_img.shape[-2:]\n",
    "    (x, y, w, h) = (x * image_w, y * image_h, w * image_w, h * image_h)\n",
    "\n",
    "    ax.text(x+w, y+h/2, decoded_string, bbox=dict(facecolor='red', alpha=0.5))\n",
    "    rect = patches.Rectangle((x, y), w, h, fill=False, color=\"r\")\n",
    "\n",
    "    ax.add_patch(rect)\n",
    "    \n",
    "ax.set_title(\"Predicted image\")\n",
    "ax.imshow(resized_img, cmap='Greys_r')\n",
    "ax.axes.xaxis.set_visible(False)\n",
    "ax.axes.yaxis.set_visible(False)"
   ]
  },
  {
   "cell_type": "markdown",
   "metadata": {},
   "source": [
    "# Navigation\n",
    "- Click [here](./4_model_training.ipynb) to go back and retrain a model again."
   ]
  },
  {
   "cell_type": "code",
   "execution_count": null,
   "metadata": {},
   "outputs": [],
   "source": []
  }
 ],
 "metadata": {
  "kernelspec": {
   "display_name": "Python 3 (MXNet JumpStart)",
   "language": "python",
   "name": "HUB_1P_IMAGE"
  },
  "language_info": {
   "codemirror_mode": {
    "name": "ipython",
    "version": 3
   },
   "file_extension": ".py",
   "mimetype": "text/x-python",
   "name": "python",
   "nbconvert_exporter": "python",
   "pygments_lexer": "ipython3",
   "version": "3.7.8"
  },
  "pycharm": {
   "stem_cell": {
    "cell_type": "raw",
    "metadata": {
     "collapsed": false
    },
    "source": []
   }
  }
 },
 "nbformat": 4,
 "nbformat_minor": 4
}
