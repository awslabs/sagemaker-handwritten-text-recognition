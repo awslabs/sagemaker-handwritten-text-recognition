{
 "cells": [
  {
   "cell_type": "code",
   "execution_count": null,
   "metadata": {},
   "outputs": [],
   "source": [
    "import json\n",
    "import boto3\n",
    "import random\n",
    "import sagemaker\n",
    "import boto3\n",
    "from IPython.display import display\n",
    "from IPython.display import Markdown as md\n",
    "\n",
    "from src.sm_utils import get_cognito_configs, get_signup_domain"
   ]
  },
  {
   "cell_type": "code",
   "execution_count": null,
   "metadata": {},
   "outputs": [],
   "source": [
    "with open(\"stack_outputs.json\") as f:\n",
    "    sagemaker_config = json.load(f)\n",
    "s3_bucket = sagemaker_config[\"S3Bucket\"]"
   ]
  },
  {
   "cell_type": "markdown",
   "metadata": {},
   "source": [
    "## Import your own dataset\n",
    "In this section, you can import your own dataset and start a Amazon SageMaker Ground Truth labelling job.\n",
    "We will first initialise the custom data folder"
   ]
  },
  {
   "cell_type": "code",
   "execution_count": null,
   "metadata": {},
   "outputs": [],
   "source": [
    "!aws s3api put-object --bucket $s3_bucket --key custom_data/\n",
    "!aws s3api put-object --bucket $s3_bucket --key custom_data/input/\n",
    "!aws s3api put-object --bucket $s3_bucket --key custom_data/output/"
   ]
  },
  {
   "cell_type": "markdown",
   "metadata": {},
   "source": [
    "You can run the following cells get the options to upload the dataset."
   ]
  },
  {
   "cell_type": "code",
   "execution_count": null,
   "metadata": {},
   "outputs": [],
   "source": [
    "string = '''\n",
    "# Copy your dataset into s3.\n",
    "\n",
    "There are 2 options for you to import your own dataset. \n",
    "\n",
    "1. Manually drag your data into https://s3.console.aws.amazon.com/s3/buckets/{s3_bucket}/custom_data/input/\n",
    "2. Copy the bucket with following command on your computer:\n",
    "\n",
    "``` aws s3 cp --recursive <path to data> s3://{s3_bucket}/custom_data/input``` \n",
    "'''.format(s3_bucket=s3_bucket)\n",
    "\n",
    "md(string)"
   ]
  },
  {
   "cell_type": "markdown",
   "metadata": {},
   "source": [
    "### Create manifest folder with the data in S3\n",
    "Iterate through the S3 bucket to automatically create a manifest file for Ground Truth"
   ]
  },
  {
   "cell_type": "code",
   "execution_count": null,
   "metadata": {},
   "outputs": [],
   "source": [
    "image_path_list = []\n",
    "\n",
    "s3 = boto3.resource('s3')\n",
    "input_bucket = s3.Bucket(s3_bucket)\n",
    "\n",
    "input_bucket_itt = input_bucket.objects.filter(Prefix=\"custom_data/input/\", Delimiter='/').all()\n",
    "assert len(list(input_bucket_itt)) > 0, \"Cannot create manifest for an empty directory\"\n",
    "for image in input_bucket_itt:    \n",
    "    # Check if key is a directory\n",
    "    if image.key[-1] == \"/\":\n",
    "        continue\n",
    "    image_path_list.append(image.key)\n",
    "    \n",
    "# Create and upload manifest file\n",
    "with open(\"data.manifest\", \"w\") as f:\n",
    "    for image_path in image_path_list:\n",
    "        string = '{{\"source-ref\": \"s3://{}/{}\"}}\\n'.format(s3_bucket, image_path)\n",
    "        f.write(string)\n",
    "\n",
    "!aws s3 cp data.manifest s3://$s3_bucket/custom_data/data.manifest\n",
    "!rm data.manifest"
   ]
  },
  {
   "cell_type": "markdown",
   "metadata": {},
   "source": [
    "# Create a labelling job"
   ]
  },
  {
   "cell_type": "code",
   "execution_count": null,
   "metadata": {},
   "outputs": [],
   "source": [
    "sm_client = boto3.client('sagemaker')\n",
    "co_client = boto3.client('cognito-idp')"
   ]
  },
  {
   "cell_type": "markdown",
   "metadata": {},
   "source": [
    "### Create a work team if you don't already have one"
   ]
  },
  {
   "cell_type": "code",
   "execution_count": null,
   "metadata": {},
   "outputs": [],
   "source": [
    "cognito_config = get_cognito_configs()\n",
    "\n",
    "if cognito_config is None:\n",
    "    workteam_name = sagemaker_config[\"SolutionPrefix\"] + \"-workteam\"\n",
    "    response = sm_client.create_workteam(WorkteamName=workteam_name,\n",
    "                                         Description=\"Labelling team for \" + workteam_name,\n",
    "                                         MemberDefinitions=[{\n",
    "                                            \"CognitoMemberDefinition\":{\n",
    "                                                'UserPool': sagemaker_config[\"CognitoUserPool\"],\n",
    "                                                'UserGroup':'{}-userpool-group'.format(sagemaker_config[\"SolutionPrefix\"]),\n",
    "                                                'ClientId': sagemaker_config[\"CongitoClientID\"]}\n",
    "                                         }]\n",
    "                                        )\n",
    "\n",
    "    workteam_arn = sm_client.describe_workteam(WorkteamName=workteam_name)[\"Workteam\"][\"WorkteamArn\"]\n",
    "\n",
    "else:\n",
    "    workteam_name = \"\"\n",
    "    workteam_arn = \"\"\n",
    "    error_msg = '''\n",
    "    ## Error\n",
    "    Please navigate to \n",
    "    https://{region}.console.aws.amazon.com/sagemaker/groundtruth?region={region}#/labeling-workforces \n",
    "    and enter your workteam name in `workteam_name` and workteam_arn in `workteam_arn`\n",
    "    '''.format(region=boto3.session.Session().region_name)\n",
    "    if len(workteam_arn) == 0:\n",
    "        display(md(error_msg))"
   ]
  },
  {
   "cell_type": "markdown",
   "metadata": {},
   "source": [
    "### Update your user invitation email with the new workteam"
   ]
  },
  {
   "cell_type": "code",
   "execution_count": null,
   "metadata": {},
   "outputs": [],
   "source": [
    "signup_domain = get_signup_domain(workteam_name=workteam_name)\n",
    "\n",
    "print(\"signup domain {}\".format(signup_domain))\n",
    "co_client.update_user_pool(\n",
    "    UserPoolId=sagemaker_config[\"CognitoUserPool\"],\n",
    "    AdminCreateUserConfig={\n",
    "        'InviteMessageTemplate': \n",
    "        {\"EmailMessage\": \n",
    "         \"Hi there, \\n\\nYou are invited to work on a labelling project:\\n\\nSign up here: {}\\n\\n\".format(signup_domain) +\n",
    "         \"Your username is '<b>{username}</b>' and your temporary password is '<b>{####}</b>'.\"}}\n",
    ")"
   ]
  },
  {
   "cell_type": "markdown",
   "metadata": {},
   "source": [
    "### Create your labelling job"
   ]
  },
  {
   "cell_type": "code",
   "execution_count": null,
   "metadata": {
    "collapsed": false,
    "jupyter": {
     "outputs_hidden": false
    },
    "pycharm": {
     "name": "#%%\n"
    }
   },
   "outputs": [],
   "source": [
    "sm_client = boto3.client('sagemaker')\n",
    "sm_client.create_labeling_job(\n",
    "        LabelingJobName=\"{}-labelling-job\".format(sagemaker_config[\"SolutionPrefix\"]),\n",
    "        LabelAttributeName='annotations',\n",
    "        InputConfig={\n",
    "            'DataSource': {\n",
    "                'S3DataSource': {\n",
    "                    'ManifestS3Uri': \"s3://{}/custom_data/data.manifest\".format(s3_bucket)\n",
    "                }\n",
    "            },\n",
    "            'DataAttributes': {\n",
    "                'ContentClassifiers': [\n",
    "                    'FreeOfAdultContent',\n",
    "                ]\n",
    "            }\n",
    "        },\n",
    "\n",
    "        OutputConfig={\n",
    "            'S3OutputPath': \"s3://{}/custom_data/output/\".format(s3_bucket)\n",
    "        },\n",
    "        RoleArn=sagemaker_config[\"SageMakerIamRole\"],\n",
    "\n",
    "        StoppingConditions={\n",
    "            'MaxPercentageOfInputDatasetLabeled': 100,\n",
    "        },\n",
    "\n",
    "        HumanTaskConfig={\n",
    "            'WorkteamArn': workteam_arn,\n",
    "            'UiConfig': {\n",
    "                'UiTemplateS3Uri': 's3://{}/sagemaker/ground_truth/groundtruth.html'.format(\n",
    "                    sagemaker_config[\"SolutionS3BucketName\"])\n",
    "            },\n",
    "            'PreHumanTaskLambdaArn': sagemaker_config[\"PreLabelLambdaArn\"],\n",
    "            'TaskTitle': 'Annotate the texts in images',\n",
    "            'TaskDescription': 'have fun',\n",
    "            'NumberOfHumanWorkersPerDataObject': 1,\n",
    "            'TaskTimeLimitInSeconds': 600,\n",
    "            'AnnotationConsolidationConfig': {\n",
    "                'AnnotationConsolidationLambdaArn': sagemaker_config[\"PostLabelLambdaArn\"]\n",
    "            }\n",
    "        }\n",
    "    )"
   ]
  },
  {
   "cell_type": "code",
   "execution_count": null,
   "metadata": {
    "collapsed": false,
    "jupyter": {
     "outputs_hidden": false
    },
    "pycharm": {
     "name": "#%%\n"
    }
   },
   "outputs": [],
   "source": [
    "my_session = boto3.session.Session()\n",
    "my_region = my_session.region_name\n",
    "\n",
    "string = '''\n",
    "\n",
    "## Next step\n",
    "\n",
    "Invite people to help you label your dataset. Click on the following link to enter their email\n",
    "addresses to get an invite.\n",
    "\n",
    "https://{}.console.aws.amazon.com/sagemaker/groundtruth?region={}#/labeling-workforces/add-workers\n",
    "'''.format(my_region, my_region)\n",
    "\n",
    "md(string)"
   ]
  },
  {
   "cell_type": "markdown",
   "metadata": {},
   "source": [
    "# Add your invitees to the job"
   ]
  },
  {
   "cell_type": "code",
   "execution_count": null,
   "metadata": {},
   "outputs": [],
   "source": [
    "users = co_client.list_users(UserPoolId=sagemaker_config[\"CognitoUserPool\"])\n",
    "\n",
    "for user in users[\"Users\"]:\n",
    "    co_client.admin_add_user_to_group(\n",
    "        UserPoolId=sagemaker_config[\"CognitoUserPool\"],\n",
    "        Username=user[\"Username\"],\n",
    "        GroupName=sagemaker_config[\"CognitoUserPoolGroup\"]\n",
    "    )"
   ]
  },
  {
   "cell_type": "markdown",
   "metadata": {},
   "source": [
    "Now wait until they accept the invite and start on the job :)"
   ]
  },
  {
   "cell_type": "markdown",
   "metadata": {},
   "source": [
    "# Navigation\n",
    "- Click [here](./3_data_visualisation.ipynb) to visualise your own data\n",
    "- Click [here](./4_model_training.ipynb) to train a network with your labelled dataset"
   ]
  },
  {
   "cell_type": "code",
   "execution_count": null,
   "metadata": {},
   "outputs": [],
   "source": []
  }
 ],
 "metadata": {
  "kernelspec": {
   "display_name": "Python 3 (MXNet JumpStart)",
   "language": "python",
   "name": "HUB_1P_IMAGE"
  },
  "language_info": {
   "codemirror_mode": {
    "name": "ipython",
    "version": 3
   },
   "file_extension": ".py",
   "mimetype": "text/x-python",
   "name": "python",
   "nbconvert_exporter": "python",
   "pygments_lexer": "ipython3",
   "version": "3.7.8"
  },
  "pycharm": {
   "stem_cell": {
    "cell_type": "raw",
    "metadata": {
     "collapsed": false
    },
    "source": []
   }
  }
 },
 "nbformat": 4,
 "nbformat_minor": 4
}
